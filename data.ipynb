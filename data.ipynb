{
 "cells": [
  {
   "cell_type": "markdown",
   "metadata": {},
   "source": [
    "# Instructions & website: \n",
    "#### https://www.digitalocean.com/community/tutorials/how-to-perform-sentiment-analysis-in-python-3-using-the-natural-language-toolkit-nltk"
   ]
  },
  {
   "cell_type": "code",
   "execution_count": null,
   "metadata": {},
   "outputs": [],
   "source": [
    "# Use the python interactive session and enter the following:\n",
    "#### import nltk (each time you need something ran)\n",
    "#### nltk.download('punkt')\n",
    "#### nltk.download('wordnet')\n",
    "#### nltk.download('averaged_perceptron_tagger')"
   ]
  },
  {
   "cell_type": "markdown",
   "metadata": {},
   "source": [
    "# Imports"
   ]
  },
  {
   "cell_type": "code",
   "execution_count": 18,
   "metadata": {},
   "outputs": [
    {
     "data": {
      "text/plain": [
       "'\\nimports three datasets from NLTK that contain various tweets to train \\nand test the model:\\n\\n    negative_tweets.json: 5000 tweets with negative sentiments\\n    positive_tweets.json: 5000 tweets with positive sentiments\\n    tweets.20150430-223406.json: 20000 tweets with no sentiments\\n'"
      ]
     },
     "execution_count": 18,
     "metadata": {},
     "output_type": "execute_result"
    }
   ],
   "source": [
    "# necessary imports\n",
    "from nltk.tag import pos_tag # Tag system\n",
    "from nltk.corpus import twitter_samples # All twitter samples\n",
    "from nltk.corpus import wordnet as wn\n",
    "from nltk.stem import WordNetLemmatizer # Simplify words system\n",
    "'''\n",
    "imports three datasets from NLTK that contain various tweets to train \n",
    "and test the model:\n",
    "\n",
    "    negative_tweets.json: 5000 tweets with negative sentiments\n",
    "    positive_tweets.json: 5000 tweets with positive sentiments\n",
    "    tweets.20150430-223406.json: 20000 tweets with no sentiments\n",
    "'''"
   ]
  },
  {
   "cell_type": "markdown",
   "metadata": {},
   "source": [
    "# Instances"
   ]
  },
  {
   "cell_type": "code",
   "execution_count": 2,
   "metadata": {},
   "outputs": [],
   "source": [
    "positive_tweets = twitter_samples.strings('positive_tweets.json')\n",
    "negative_tweets = twitter_samples.strings('negative_tweets.json')\n",
    "text = twitter_samples.strings('tweets.20150430-223406.json')"
   ]
  },
  {
   "cell_type": "markdown",
   "metadata": {},
   "source": [
    "# Tokenizing example and descriptions\n",
    "#### https://www.ling.upenn.edu/courses/Fall_2003/ling001/penn_treebank_pos.html"
   ]
  },
  {
   "cell_type": "code",
   "execution_count": null,
   "metadata": {},
   "outputs": [],
   "source": [
    "#### NNP: Noun, proper, singular\n",
    "#### NN: Noun, common, singular or mass\n",
    "#### IN: Preposition or conjunction, subordinating\n",
    "#### VBG: Verb, gerund or present participle\n",
    "#### VBN: Verb, past participle"
   ]
  },
  {
   "cell_type": "code",
   "execution_count": 3,
   "metadata": {},
   "outputs": [],
   "source": [
    "tokens = twitter_samples.tokenized('positive_tweets.json')"
   ]
  },
  {
   "cell_type": "code",
   "execution_count": null,
   "metadata": {},
   "outputs": [],
   "source": [
    "# Sample token view\n",
    "# pos_tag(tokens[0])"
   ]
  },
  {
   "cell_type": "markdown",
   "metadata": {},
   "source": [
    "# Lemmatize fn"
   ]
  },
  {
   "cell_type": "code",
   "execution_count": 23,
   "metadata": {},
   "outputs": [],
   "source": [
    "def lemmatize_sentence(tokens):\n",
    "    # start the lemmatizer\n",
    "    lemmatizer = WordNetLemmatizer()\n",
    "    # Create list to store results\n",
    "    lemmatized_sentence = []\n",
    "    # for each word and tag created when using the pos_tag function on the tweets\n",
    "    # append the assigned tag type to the list\n",
    "    for word, tag in pos_tag(tokens):\n",
    "        if tag.startswith('NN'):\n",
    "            pos = 'n' # noun\n",
    "        elif tag.startswith('VB'):\n",
    "            pos = 'v' # verb\n",
    "        else:\n",
    "            pos = 'a' # adjetive\n",
    "        lemmatized_sentence.append(lemmatizer.lemmatize(word, pos))\n",
    "    return lemmatized_sentence"
   ]
  },
  {
   "cell_type": "code",
   "execution_count": 24,
   "metadata": {},
   "outputs": [
    {
     "name": "stdout",
     "output_type": "stream",
     "text": [
      "['#FollowFriday', '@France_Inte', '@PKuchly57', '@Milipol_Paris', 'for', 'be', 'top', 'engage', 'member', 'in', 'my', 'community', 'this', 'week', ':)']\n"
     ]
    }
   ],
   "source": [
    "# Testing the lemmatizing function where it gets rid of plurals\n",
    "print(lemmatize_sentence(tokens[0]))"
   ]
  },
  {
   "cell_type": "markdown",
   "metadata": {},
   "source": [
    "# Saving files into txt"
   ]
  },
  {
   "cell_type": "code",
   "execution_count": 15,
   "metadata": {},
   "outputs": [],
   "source": [
    "# with open('positive_tweets.txt', 'w') as file:\n",
    "#     for elem in positive_tweets:\n",
    "#         file.write(elem)\n",
    "\n",
    "# with open('negative_tweets.txt', 'w') as file:\n",
    "#     for elem in negative_tweets:\n",
    "#         file.write(elem)\n",
    "\n",
    "# with open('sample_tweets.txt', 'w') as file:\n",
    "#     for elem in text:\n",
    "#         file.write(elem)"
   ]
  }
 ],
 "metadata": {
  "kernelspec": {
   "display_name": "Python 3.10.6 64-bit",
   "language": "python",
   "name": "python3"
  },
  "language_info": {
   "codemirror_mode": {
    "name": "ipython",
    "version": 3
   },
   "file_extension": ".py",
   "mimetype": "text/x-python",
   "name": "python",
   "nbconvert_exporter": "python",
   "pygments_lexer": "ipython3",
   "version": "3.10.6"
  },
  "orig_nbformat": 4,
  "vscode": {
   "interpreter": {
    "hash": "b0fa6594d8f4cbf19f97940f81e996739fb7646882a419484c72d19e05852a7e"
   }
  }
 },
 "nbformat": 4,
 "nbformat_minor": 2
}
